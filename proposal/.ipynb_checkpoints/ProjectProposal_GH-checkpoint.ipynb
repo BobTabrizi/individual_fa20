{
 "cells": [
  {
   "cell_type": "markdown",
   "metadata": {},
   "source": [
    "# COGS 108 - Project Proposal"
   ]
  },
  {
   "cell_type": "markdown",
   "metadata": {},
   "source": [
    "# Names & GitHub ID\n",
    "\n",
    "- Name: Bobak Tabrizi\n",
    "- GitHub Username: BobTabrizi"
   ]
  },
  {
   "cell_type": "markdown",
   "metadata": {},
   "source": [
    "# Research Question"
   ]
  },
  {
   "cell_type": "markdown",
   "metadata": {},
   "source": [
    "Would placing a curfew on parks lower crime rates in cities of large population such as San Diego, California?"
   ]
  },
  {
   "cell_type": "markdown",
   "metadata": {},
   "source": [
    "## Background and Prior Work"
   ]
  },
  {
   "cell_type": "markdown",
   "metadata": {},
   "source": [
    "*Fill in your background and prior work here. Be sure to specify which statements are from which references.* \n",
    "\n",
    "I came across this question last year upon attending a community meeting in City Heights. The question of park curfews was raised by local law enforcement and was passed around members of the community. Many saw rising crime rates as a concern, but nobody was certain on if a curfew would either help solve the problem or make it worse. \n",
    "\n",
    "This is a question that has been brought up quite a few times by San Diegans in the past, and again this year. Law enforcement in San Diego believes in a positive outcome from a curfew. \"Police say curfews can be effective at reducing crime because they limit opportunities for illegal activity and provide officers with another enforcement tool\"[1].\n",
    "\n",
    "Some residents in San Diego are on the flipside, in strong support of a curfew in areas that have historically seen more violence than others. \"The park is known for open drug dealing, intravenous drug use and “chop shops” where stolen bikes are disassembled so they can be sold for parts. Needles have frequently been found near the park’s bathrooms and in grass where children play. 'It’s a really unsavory situation, and it’s been going on for years,'said Brian White, president of the Pacific Beach Town Council. 'We think a curfew can make a big difference.'\"[3].\n",
    "\n",
    "\n",
    "The amount of crimes that happen at parks in San Diego has been looked into a few times. The most recent of studies looked over several different parks and incidents that happened at late hours in the day. \"Libby Lake Park is one of the most dangerous parks in the county, situated in the heart of Latino gang territory and, based on Yelp reviews, a place you especially want to avoid after dark. “I live in the area so I know about this park and the violence…,” wrote one Yelper[2]\"\n",
    "\n",
    "\n",
    "\n",
    "\n",
    "\n",
    "References (include links):\n",
    "- 1)https://www.sandiegouniontribune.com/communities/san-diego/story/2020-02-16/park-curfews-on-the-rise-in-san-diego-in-response-to-crime-concerns\n",
    "- 2)https://www.sandiegoreader.com/news/2020/jun/03/cover-san-diegos-deadliest-parks/\n",
    "- 3)https://www.latimes.com/california/story/2019-12-24/san-diego-residents-lobby-for-curfew-at-what-some-call-felony-park"
   ]
  },
  {
   "cell_type": "markdown",
   "metadata": {},
   "source": [
    "# Hypothesis\n"
   ]
  },
  {
   "cell_type": "markdown",
   "metadata": {},
   "source": [
    "Since fencing would prevent easy gatherings of people in parks at night, I believe that implementing a park curfew would reduce crime rates in parks and them safer for the overall public. I believe this increase in safety will be a result from giving the San Diego community an enforced window of time to avoid ending up in dangerous situations."
   ]
  },
  {
   "cell_type": "markdown",
   "metadata": {},
   "source": [
    "# Data\n",
    "\n",
    "The ideal data set for this project would have variables of crimes committed/incidents reported recorded in the afternoon to night time (roughly 7:00 PM to 8:00 AM range) recorded in intervals of time preferrably either on a 6-12 month basis. Ideally this data would be collected by law enforcement that have accurate records of reported incidents. Preferrably the data would be organized by park or by different neighborhoods of San Diego. \n",
    "\n",
    "In the case data for San Diego is not readily available, data from other cities in Southern California could potentially work though it would result in making this study a bit broader by researching cities in Southern California rather than San Diego. Not a preferred option, but if its necessary it could be an option.\n"
   ]
  },
  {
   "cell_type": "markdown",
   "metadata": {},
   "source": [
    "*Explain what the ideal dataset you would want to answer this question. (This should include: What variables? How many observations? Who/what/how would these data be collected? How would these data be stored/organized?)*"
   ]
  },
  {
   "cell_type": "markdown",
   "metadata": {},
   "source": [
    "# Ethics & Privacy"
   ]
  },
  {
   "cell_type": "markdown",
   "metadata": {},
   "source": [
    "Since I will be examining crime frequencies by location in addition to San Diego as a whole, I believe it will be important to avoid listing specific names of parks or neighborhoods in the case that it may attract unwanted attention to those seeking to do harm to these communities or discourage those that live in those living communities from using their public spaces. \n",
    "\n",
    "It is also important to consider that crime can happen anywhere and parks can be a small subset of locations where crimes can occur during late hours of the day. Since the data I will likely be using will be a guage of crimes per region of San Diego instead of per park, we will need to take this into account.\n",
    "\n",
    "In the case the data is not readily available and data is drawn from other cities in Southern California, the dangers of generalization will have to be taken into account. \n"
   ]
  },
  {
   "cell_type": "code",
   "execution_count": null,
   "metadata": {},
   "outputs": [],
   "source": []
  }
 ],
 "metadata": {
  "kernelspec": {
   "display_name": "Python 3",
   "language": "python",
   "name": "python3"
  },
  "language_info": {
   "codemirror_mode": {
    "name": "ipython",
    "version": 3
   },
   "file_extension": ".py",
   "mimetype": "text/x-python",
   "name": "python",
   "nbconvert_exporter": "python",
   "pygments_lexer": "ipython3",
   "version": "3.7.4"
  }
 },
 "nbformat": 4,
 "nbformat_minor": 2
}
